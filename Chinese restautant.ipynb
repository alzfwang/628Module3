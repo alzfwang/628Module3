{
 "cells": [
  {
   "cell_type": "code",
   "execution_count": 1,
   "metadata": {},
   "outputs": [],
   "source": [
    "import json\n",
    "import re"
   ]
  },
  {
   "cell_type": "code",
   "execution_count": 2,
   "metadata": {},
   "outputs": [],
   "source": [
    "data = []\n",
    "with open(\"./Stat628/Total.json\", encoding = \"utf-8\" ) as f:\n",
    "     for line in f:\n",
    "        data.append(json.loads(line))"
   ]
  },
  {
   "cell_type": "code",
   "execution_count": 4,
   "metadata": {},
   "outputs": [
    {
     "data": {
      "text/plain": [
       "{'is_open': 0,\n",
       " 'attributes': {'GoodForKids': 'False'},\n",
       " 'postal_code': '85016',\n",
       " 'categories': 'Golf, Active Life',\n",
       " 'city': 'Phoenix',\n",
       " 'hours': None,\n",
       " 'longitude': -112.0184807,\n",
       " 'Tip': [{'text': 'Played for the first there this past weekend and it was AMAZING',\n",
       "   'date': '2015-09-23 01:38:48',\n",
       "   'user_id': 'ce63dEP3lIW6UqMGLe_lfw',\n",
       "   'business_id': '1SWheh84yJXfytovILXOAQ',\n",
       "   'compliment_count': 0}],\n",
       " 'stars': 3.0,\n",
       " 'latitude': 33.5221425,\n",
       " 'state': 'AZ',\n",
       " 'review_count': 5,\n",
       " 'name': 'Arizona Biltmore Golf Club',\n",
       " 'address': '2818 E Camino Acequia Drive',\n",
       " 'Review': [{'stars': 1.0,\n",
       "   'cool': 0,\n",
       "   'date': '2015-09-24 00:02:23',\n",
       "   'text': \"Don't go here if you expect consistent or reasonable hours for the driving range.  It's clear the goal for the owners of this course is to hammer down their expenses without any concern for the customer.\",\n",
       "   'user_id': 'WS95iyoiDkbLGeHtERa1-A',\n",
       "   'review_id': 'BUgmey6v6hZ1WfjbIhpVBg',\n",
       "   'useful': 2,\n",
       "   'funny': 0,\n",
       "   'business_id': '1SWheh84yJXfytovILXOAQ'},\n",
       "  {'stars': 4.0,\n",
       "   'cool': 0,\n",
       "   'date': '2016-04-02 03:41:15',\n",
       "   'text': 'Both courses are great! You can find reasonable rates with a little searching. Little disappointed that you have to pay for range balls if paying over 100 bucks a round',\n",
       "   'user_id': 'vvOJpbXO4E3d3g0AFEl9mA',\n",
       "   'review_id': 'jL1fWnCQV8tLdpo2sKDYuQ',\n",
       "   'useful': 0,\n",
       "   'funny': 0,\n",
       "   'business_id': '1SWheh84yJXfytovILXOAQ'},\n",
       "  {'stars': 5.0,\n",
       "   'cool': 0,\n",
       "   'date': '2015-03-27 00:21:38',\n",
       "   'text': 'Absolutely  gorgeous facility. Golf course was well maintained. Great view of the surrounding area.',\n",
       "   'user_id': 'Gjj9cj_EsFgwmn-jrjJfeQ',\n",
       "   'review_id': 'HFUFnkhInL3xwdUnONJ6AA',\n",
       "   'useful': 0,\n",
       "   'funny': 0,\n",
       "   'business_id': '1SWheh84yJXfytovILXOAQ'},\n",
       "  {'stars': 4.0,\n",
       "   'cool': 0,\n",
       "   'date': '2015-09-23 01:40:31',\n",
       "   'text': 'Played for the first there this past weekend and it was AMAZING...my friends and I played the Links course and found it fun and challenging.',\n",
       "   'user_id': 'ce63dEP3lIW6UqMGLe_lfw',\n",
       "   'review_id': 'IBf9CaGl0BDJhbaadp7A3g',\n",
       "   'useful': 0,\n",
       "   'funny': 0,\n",
       "   'business_id': '1SWheh84yJXfytovILXOAQ'},\n",
       "  {'stars': 1.0,\n",
       "   'cool': 1,\n",
       "   'date': '2016-05-19 00:50:17',\n",
       "   'text': \"I was invited to a golf outing being held here on the links course.  I do not have my own clubs so I called a few days prior to the event and asked if they rented clubs. \\nThe girl states that they do and she needs to call her manager to get the rates. She came back on the phone and said that because I am part of the outing there will be no charge.  I asked her to repeat that and then happily said goodbye. \\nI had a few guys offer me clubs for the outing and I said no because i was getting them from the club. \\nYeah, went in and talked with some guy named Chad, who in short should be fired and not allowed to deal with the public. Most unprofessional guy around. \\nHe would not honor the free clubs and wanted to charge me $77 for something that I was assured were on the outing. He went as far as swearing at me.  He stated,  I don't give a dam what you were told on the phone.  I don't care what the hell you are telling me. \\nI stated back that he should not be dealing with the public.  \\nHorrible, unprofessional service and the cart paths are junk.  They have put no money into the links course especially the cart paths.\\nThey will never get my money.\",\n",
       "   'user_id': 'T_f8EzM9vebLHoDU5PDcWA',\n",
       "   'review_id': 'jvZCtKsHjVhPcp7oqjLI0A',\n",
       "   'useful': 0,\n",
       "   'funny': 0,\n",
       "   'business_id': '1SWheh84yJXfytovILXOAQ'}],\n",
       " 'business_id': '1SWheh84yJXfytovILXOAQ'}"
      ]
     },
     "execution_count": 4,
     "metadata": {},
     "output_type": "execute_result"
    }
   ],
   "source": [
    "data[0]"
   ]
  },
  {
   "cell_type": "code",
   "execution_count": 3,
   "metadata": {},
   "outputs": [],
   "source": [
    "catagory = []\n",
    "for i in data:\n",
    "    catagory.append(i[\"categories\"])"
   ]
  },
  {
   "cell_type": "code",
   "execution_count": 5,
   "metadata": {},
   "outputs": [
    {
     "data": {
      "text/plain": [
       "['Golf, Active Life',\n",
       " 'Specialty Food, Restaurants, Dim Sum, Imported Food, Food, Chinese, Ethnic Food, Seafood',\n",
       " 'Sushi Bars, Restaurants, Japanese',\n",
       " 'Insurance, Financial Services',\n",
       " 'Plumbing, Shopping, Local Services, Home Services, Kitchen & Bath, Home & Garden, Water Heater Installation/Repair',\n",
       " 'Shipping Centers, Couriers & Delivery Services, Local Services, Printing Services',\n",
       " 'Beauty & Spas, Hair Salons',\n",
       " \"Hair Salons, Hair Stylists, Barbers, Men's Hair Salons, Cosmetics & Beauty Supply, Shopping, Beauty & Spas\",\n",
       " 'Nail Salons, Beauty & Spas, Day Spas',\n",
       " 'Beauty & Spas, Nail Salons, Day Spas, Massage']"
      ]
     },
     "execution_count": 5,
     "metadata": {},
     "output_type": "execute_result"
    }
   ],
   "source": [
    "catagory[0:10]"
   ]
  },
  {
   "cell_type": "code",
   "execution_count": 16,
   "metadata": {},
   "outputs": [],
   "source": [
    "#new is the index of Chinese Restautants\n",
    "new = []\n",
    "for i in catagory:\n",
    "    if i == None:\n",
    "        continue\n",
    "    if \"Chinese\" in i:\n",
    "        if (\"Restaurant\" in i) or (\"Food\" in i):\n",
    "            new.append(catagory.index(i))"
   ]
  },
  {
   "cell_type": "code",
   "execution_count": 17,
   "metadata": {},
   "outputs": [
    {
     "data": {
      "text/plain": [
       "4434"
      ]
     },
     "execution_count": 17,
     "metadata": {},
     "output_type": "execute_result"
    }
   ],
   "source": [
    "len(new)"
   ]
  },
  {
   "cell_type": "code",
   "execution_count": 19,
   "metadata": {},
   "outputs": [],
   "source": [
    "Chinese = [data[i] for i in new]"
   ]
  },
  {
   "cell_type": "code",
   "execution_count": 32,
   "metadata": {},
   "outputs": [
    {
     "data": {
      "text/plain": [
       "4434"
      ]
     },
     "execution_count": 32,
     "metadata": {},
     "output_type": "execute_result"
    }
   ],
   "source": [
    "len(Chinese)"
   ]
  },
  {
   "cell_type": "code",
   "execution_count": 21,
   "metadata": {},
   "outputs": [],
   "source": [
    "text = []\n",
    "for i in Chinese:\n",
    "    reviews = i[\"Review\"]\n",
    "    for n in reviews:\n",
    "        text.append(n[\"text\"])\n",
    "    "
   ]
  },
  {
   "cell_type": "code",
   "execution_count": 22,
   "metadata": {},
   "outputs": [
    {
     "data": {
      "text/plain": [
       "447769"
      ]
     },
     "execution_count": 22,
     "metadata": {},
     "output_type": "execute_result"
    }
   ],
   "source": [
    "len(text)"
   ]
  },
  {
   "cell_type": "code",
   "execution_count": 23,
   "metadata": {},
   "outputs": [
    {
     "name": "stdout",
     "output_type": "stream",
     "text": [
      "My girlfriend and I went for dinner at Emerald Chinese after a Thursday night workout.\n"
     ]
    }
   ],
   "source": [
    "from nltk import sent_tokenize\n",
    "\n",
    "sentences = []\n",
    "for review in text:\n",
    "    sentences += sent_tokenize(review)\n",
    "    \n",
    "print(sentences[0])"
   ]
  },
  {
   "cell_type": "code",
   "execution_count": 24,
   "metadata": {},
   "outputs": [
    {
     "data": {
      "text/plain": [
       "3599563"
      ]
     },
     "execution_count": 24,
     "metadata": {},
     "output_type": "execute_result"
    }
   ],
   "source": [
    "len(sentences)"
   ]
  },
  {
   "cell_type": "code",
   "execution_count": 25,
   "metadata": {},
   "outputs": [
    {
     "data": {
      "text/plain": [
       "'My girlfriend and I went for dinner at Emerald Chinese after a Thursday night workout.'"
      ]
     },
     "execution_count": 25,
     "metadata": {},
     "output_type": "execute_result"
    }
   ],
   "source": [
    "sentences[0]"
   ]
  },
  {
   "cell_type": "code",
   "execution_count": 26,
   "metadata": {},
   "outputs": [],
   "source": [
    "#delete the punctuation, split the words\n",
    "sentences = [re.split(r\"\\W+\", sentence) for sentence in sentences]"
   ]
  },
  {
   "cell_type": "code",
   "execution_count": 28,
   "metadata": {},
   "outputs": [
    {
     "data": {
      "text/plain": [
       "['My',\n",
       " 'girlfriend',\n",
       " 'and',\n",
       " 'I',\n",
       " 'went',\n",
       " 'for',\n",
       " 'dinner',\n",
       " 'at',\n",
       " 'Emerald',\n",
       " 'Chinese',\n",
       " 'after',\n",
       " 'a',\n",
       " 'Thursday',\n",
       " 'night',\n",
       " 'workout',\n",
       " '']"
      ]
     },
     "execution_count": 28,
     "metadata": {},
     "output_type": "execute_result"
    }
   ],
   "source": [
    "sentences[0]"
   ]
  },
  {
   "cell_type": "code",
   "execution_count": 30,
   "metadata": {},
   "outputs": [],
   "source": [
    "from nltk.corpus import stopwords\n",
    "stop_words = set(stopwords.words('english'))"
   ]
  },
  {
   "cell_type": "code",
   "execution_count": 33,
   "metadata": {},
   "outputs": [
    {
     "name": "stdout",
     "output_type": "stream",
     "text": [
      "{'ain', \"won't\", 'wouldn', 'in', 'further', 'hasn', 'be', 'which', 'where', 'its', 've', 'not', \"should've\", \"shan't\", 'we', 'some', 'didn', 'their', 'because', 'both', 'couldn', 'll', 'yours', 'above', 'over', 'if', 'y', 'again', 'itself', 'why', 'from', 'how', 'any', 't', 'that', 'them', \"didn't\", 'those', 'i', 'should', 'mustn', 'while', 'after', 'off', 'all', 'through', 'me', 'on', 'd', \"needn't\", 'haven', 'was', 'being', 'themselves', 'very', 'it', 'just', 'until', 'no', 'with', 'm', 'same', \"haven't\", \"wouldn't\", \"mightn't\", 'or', 'hers', 'most', 'yourself', 'your', \"you'll\", 'into', 'now', 'myself', 'a', 'will', 'were', 'have', 'as', 'had', 'theirs', 'here', 'for', 'the', \"mustn't\", 'shouldn', 'him', 'are', 'then', 'does', 'wasn', 'so', 'ma', 'am', 'during', 'but', 'weren', 'has', 'yourselves', 'our', 'whom', 'these', 'been', 'did', 'an', 'between', 'other', \"couldn't\", 're', 'hadn', \"aren't\", \"isn't\", 'shan', \"you'd\", 'himself', 'don', 'her', 'to', 'they', 'of', 'against', \"shouldn't\", \"wasn't\", 'having', 'such', 'can', 'than', 'needn', 'she', 'o', 'isn', 'you', 'under', \"don't\", 'out', 'mightn', 'there', \"it's\", 'once', 'my', 'he', 'won', 'few', \"she's\", 'what', 'own', 'too', 'aren', \"you're\", 'herself', 's', \"doesn't\", 'below', 'nor', 'ours', 'up', \"weren't\", 'only', 'doesn', 'his', 'who', 'is', 'before', 'each', 'when', 'do', 'about', 'and', 'doing', \"that'll\", \"hasn't\", 'more', 'this', 'at', \"hadn't\", 'down', \"you've\", 'by', 'ourselves'}\n"
     ]
    }
   ],
   "source": [
    "print(stop_words)"
   ]
  },
  {
   "cell_type": "code",
   "execution_count": 34,
   "metadata": {},
   "outputs": [],
   "source": [
    "#delete the space and the stop words\n",
    "sentences_clean = []\n",
    "for sentence in sentences:\n",
    "    cleaned = []\n",
    "    for word in sentence:\n",
    "        if (word != \"\") and (not word in stop_words):\n",
    "            cleaned.append(word.lower())\n",
    "    sentences_clean.append(cleaned)\n",
    "            "
   ]
  },
  {
   "cell_type": "code",
   "execution_count": 42,
   "metadata": {},
   "outputs": [
    {
     "data": {
      "text/plain": [
       "[['my',\n",
       "  'girlfriend',\n",
       "  'i',\n",
       "  'went',\n",
       "  'dinner',\n",
       "  'emerald',\n",
       "  'chinese',\n",
       "  'thursday',\n",
       "  'night',\n",
       "  'workout'],\n",
       " ['we', 'arrived', 'around', '7', '30pm', 'seated', 'short', 'wait'],\n",
       " ['after',\n",
       "  'browsing',\n",
       "  'menu',\n",
       "  'brief',\n",
       "  'discussion',\n",
       "  'waiter',\n",
       "  'ordered',\n",
       "  'seafood',\n",
       "  'noodles',\n",
       "  '3',\n",
       "  'item',\n",
       "  'mix',\n",
       "  'meat',\n",
       "  'plate',\n",
       "  'bbq',\n",
       "  'pork',\n",
       "  'chicken',\n",
       "  'duck',\n",
       "  'the',\n",
       "  'food',\n",
       "  'came',\n",
       "  'soon',\n",
       "  'thereafter',\n",
       "  'hot',\n",
       "  'delicious'],\n",
       " ['there',\n",
       "  'large',\n",
       "  'portions',\n",
       "  'lots',\n",
       "  'seafood',\n",
       "  'seafood',\n",
       "  'noodles',\n",
       "  'mix',\n",
       "  'meat',\n",
       "  'plate',\n",
       "  'came',\n",
       "  'good',\n",
       "  'cuts',\n",
       "  'meat',\n",
       "  'correct',\n",
       "  'sauces'],\n",
       " ['after', 'meal', 'received', 'fortune', 'cookies', 'dessert'],\n",
       " ['food', 'the', 'food', 'good', 'quality'],\n",
       " ['ingredients', 'tasted', 'fresh', 'dishes', 'tasted', 'well', 'made'],\n",
       " ['food',\n",
       "  'average',\n",
       "  'nothing',\n",
       "  'stood',\n",
       "  'even',\n",
       "  'though',\n",
       "  'i',\n",
       "  'quite',\n",
       "  'hungry'],\n",
       " ['price',\n",
       "  'price',\n",
       "  'high',\n",
       "  'comparative',\n",
       "  'chinese',\n",
       "  'cuisine',\n",
       "  'comparable',\n",
       "  'large',\n",
       "  'western',\n",
       "  'restaurant',\n",
       "  'chains'],\n",
       " ['service', 'the', 'service', 'average', 'slightly', 'average']]"
      ]
     },
     "execution_count": 42,
     "metadata": {},
     "output_type": "execute_result"
    }
   ],
   "source": [
    "sentences_clean[0:10]"
   ]
  },
  {
   "cell_type": "code",
   "execution_count": 43,
   "metadata": {},
   "outputs": [],
   "source": [
    "from nltk.stem.porter import PorterStemmer\n",
    "porter = PorterStemmer()"
   ]
  },
  {
   "cell_type": "code",
   "execution_count": 45,
   "metadata": {},
   "outputs": [],
   "source": [
    "#Stemming and lemmatizing\n",
    "sentences_stemmed =[]\n",
    "for sentence in sentences_clean:\n",
    "    stemmed = []\n",
    "    for word in sentence:\n",
    "        stemmed.append(porter.stem(word))\n",
    "        \n",
    "    sentences_stemmed.append(stemmed)"
   ]
  },
  {
   "cell_type": "code",
   "execution_count": 74,
   "metadata": {},
   "outputs": [
    {
     "data": {
      "text/plain": [
       "[['my',\n",
       "  'girlfriend',\n",
       "  'i',\n",
       "  'went',\n",
       "  'dinner',\n",
       "  'emerald',\n",
       "  'chines',\n",
       "  'thursday',\n",
       "  'night',\n",
       "  'workout'],\n",
       " ['we', 'arriv', 'around', '7', '30pm', 'seat', 'short', 'wait'],\n",
       " ['after',\n",
       "  'brows',\n",
       "  'menu',\n",
       "  'brief',\n",
       "  'discuss',\n",
       "  'waiter',\n",
       "  'order',\n",
       "  'seafood',\n",
       "  'noodl',\n",
       "  '3',\n",
       "  'item',\n",
       "  'mix',\n",
       "  'meat',\n",
       "  'plate',\n",
       "  'bbq',\n",
       "  'pork',\n",
       "  'chicken',\n",
       "  'duck',\n",
       "  'the',\n",
       "  'food',\n",
       "  'came',\n",
       "  'soon',\n",
       "  'thereaft',\n",
       "  'hot',\n",
       "  'delici'],\n",
       " ['there',\n",
       "  'larg',\n",
       "  'portion',\n",
       "  'lot',\n",
       "  'seafood',\n",
       "  'seafood',\n",
       "  'noodl',\n",
       "  'mix',\n",
       "  'meat',\n",
       "  'plate',\n",
       "  'came',\n",
       "  'good',\n",
       "  'cut',\n",
       "  'meat',\n",
       "  'correct',\n",
       "  'sauc'],\n",
       " ['after', 'meal', 'receiv', 'fortun', 'cooki', 'dessert'],\n",
       " ['food', 'the', 'food', 'good', 'qualiti'],\n",
       " ['ingredi', 'tast', 'fresh', 'dish', 'tast', 'well', 'made'],\n",
       " ['food', 'averag', 'noth', 'stood', 'even', 'though', 'i', 'quit', 'hungri'],\n",
       " ['price',\n",
       "  'price',\n",
       "  'high',\n",
       "  'compar',\n",
       "  'chines',\n",
       "  'cuisin',\n",
       "  'compar',\n",
       "  'larg',\n",
       "  'western',\n",
       "  'restaur',\n",
       "  'chain'],\n",
       " ['servic', 'the', 'servic', 'averag', 'slightli', 'averag']]"
      ]
     },
     "execution_count": 74,
     "metadata": {},
     "output_type": "execute_result"
    }
   ],
   "source": [
    "sentences_stemmed[0:10]"
   ]
  },
  {
   "cell_type": "code",
   "execution_count": 47,
   "metadata": {},
   "outputs": [],
   "source": [
    "# Something can also be deleted : Numbers, Date, "
   ]
  },
  {
   "cell_type": "code",
   "execution_count": 69,
   "metadata": {},
   "outputs": [],
   "source": [
    "#Write a Chinese.text included all the cleaned word\n",
    "with open(\"Chinese.text\", \"w\", encoding= \"utf-8\") as p:\n",
    "    for sentence in sentences_stemmed:\n",
    "        for word in sentence:\n",
    "            p.write(word+\"\\n\")"
   ]
  },
  {
   "cell_type": "code",
   "execution_count": 48,
   "metadata": {},
   "outputs": [],
   "source": [
    "from gensim.models import Word2Vec"
   ]
  },
  {
   "cell_type": "code",
   "execution_count": 49,
   "metadata": {},
   "outputs": [],
   "source": [
    "model = Word2Vec(sentences_stemmed, min_count = 100, workers = 8)"
   ]
  },
  {
   "cell_type": "code",
   "execution_count": 50,
   "metadata": {},
   "outputs": [
    {
     "name": "stdout",
     "output_type": "stream",
     "text": [
      "Word2Vec(vocab=5146, size=100, alpha=0.025)\n"
     ]
    }
   ],
   "source": [
    "print(model)"
   ]
  },
  {
   "cell_type": "code",
   "execution_count": 51,
   "metadata": {},
   "outputs": [],
   "source": [
    "words = list(model.wv.vocab)"
   ]
  },
  {
   "cell_type": "code",
   "execution_count": 52,
   "metadata": {},
   "outputs": [],
   "source": [
    "model.wv.save_word2vec_format('model.bin')\n",
    "#model = Word2Vec.load('model.bin')"
   ]
  },
  {
   "cell_type": "code",
   "execution_count": 53,
   "metadata": {},
   "outputs": [
    {
     "name": "stdout",
     "output_type": "stream",
     "text": [
      "['my', 'girlfriend', 'i', 'went', 'dinner', 'emerald', 'chines', 'thursday', 'night', 'we', 'arriv', 'around', '7', '30pm', 'seat', 'short', 'wait', 'after', 'brows', 'menu', 'brief', 'discuss', 'waiter', 'order', 'seafood', 'noodl', '3', 'item', 'mix', 'meat', 'plate', 'bbq', 'pork', 'chicken', 'duck', 'the', 'food', 'came', 'soon', 'hot', 'delici', 'there', 'larg', 'portion', 'lot', 'good', 'cut', 'correct', 'sauc', 'meal', 'receiv', 'fortun', 'cooki', 'dessert', 'qualiti', 'ingredi', 'tast', 'fresh', 'dish', 'well', 'made', 'averag', 'noth', 'stood', 'even', 'though', 'quit', 'hungri', 'price', 'high', 'compar', 'cuisin', 'western', 'restaur', 'chain', 'servic', 'slightli', 'a', 'common', 'poor', 'waitress', 'impati', 'except', 'staff', 'appear', 'rush', 'all', 'need', 'met', 'grumpi', 'decor', 'comfort', 'chair', 'nice', 'tablecloth', 'suffici', 'room', 'navig', 'tabl', 'overal']\n"
     ]
    }
   ],
   "source": [
    "print(words[0:100])"
   ]
  },
  {
   "cell_type": "code",
   "execution_count": 54,
   "metadata": {},
   "outputs": [
    {
     "name": "stderr",
     "output_type": "stream",
     "text": [
      "D:\\Anaconda\\lib\\site-packages\\ipykernel_launcher.py:1: DeprecationWarning: Call to deprecated `__getitem__` (Method will be removed in 4.0.0, use self.wv.__getitem__() instead).\n",
      "  \"\"\"Entry point for launching an IPython kernel.\n"
     ]
    }
   ],
   "source": [
    "X = model[model.wv.vocab]"
   ]
  },
  {
   "cell_type": "code",
   "execution_count": 55,
   "metadata": {},
   "outputs": [],
   "source": [
    "from sklearn.decomposition import PCA\n",
    "from matplotlib import pyplot"
   ]
  },
  {
   "cell_type": "code",
   "execution_count": 56,
   "metadata": {},
   "outputs": [],
   "source": [
    "pca = PCA(n_components=2)\n",
    "result = pca.fit_transform(X)"
   ]
  },
  {
   "cell_type": "code",
   "execution_count": 57,
   "metadata": {},
   "outputs": [
    {
     "data": {
      "image/png": "[encoded data removed]",
      "text/plain": [
       "<Figure size 432x288 with 1 Axes>"
      ]
     },
     "metadata": {
      "needs_background": "light"
     },
     "output_type": "display_data"
    }
   ],
   "source": [
    "pyplot.scatter(result[:, 0], result[:, 1])\n",
    "\n",
    "for i, word in enumerate(words):\n",
    "\tpyplot.annotate(word, xy=(result[i, 0], result[i, 1]))\n",
    "\n",
    "\n",
    "pyplot.show()"
   ]
  },
  {
   "cell_type": "code",
   "execution_count": null,
   "metadata": {},
   "outputs": [],
   "source": []
  }
 ],
 "metadata": {
  "kernelspec": {
   "display_name": "Python 3",
   "language": "python",
   "name": "python3"
  },
  "language_info": {
   "codemirror_mode": {
    "name": "ipython",
    "version": 3
   },
   "file_extension": ".py",
   "mimetype": "text/x-python",
   "name": "python",
   "nbconvert_exporter": "python",
   "pygments_lexer": "ipython3",
   "version": "3.7.1"
  }
 },
 "nbformat": 4,
 "nbformat_minor": 2
}
